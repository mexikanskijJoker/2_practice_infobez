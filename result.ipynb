{
 "cells": [
  {
   "cell_type": "markdown",
   "metadata": {},
   "source": [
    "1. Подозрительные разрешения в AndroidManifest\n",
    "\n",
    "android.permission.MOUNT_UNMOUNT_FILESYSTEMS\n",
    "Причина: Позволяет монтировать и размонтировать файловые системы, что может использоваться для доступа или изменения защищённых областей системы.\n",
    "\n",
    "\n",
    "android.permission.GET_TASKS\n",
    "Причина: Предоставляет доступ к списку запущенных задач, что может раскрывать активность пользователя и использование приложений.\n",
    "\n",
    "\n",
    "android.permission.READ_LOGS\n",
    "Причина: Позволяет доступ к системным логам, которые могут содержать конфиденциальную информацию о пользователе и устройстве.\n",
    "\n",
    "\n",
    "android.permission.WRITE_SETTINGS\n",
    "Причина: Разрешает изменение системных настроек, что может быть использовано для внесения вредоносных конфигураций или настроек без ведома пользователя.\n",
    "\n",
    "\n",
    "android.permission.WRITE_SECURE_SETTINGS\n",
    "Причина: Позволяет изменять защищённые системные настройки\n",
    "\n",
    "\n",
    "android.permission.SYSTEM_ALERT_WINDOW\n",
    "Причина: Позволяет отображать оверлеи поверх других приложений, что может быть использовано для фишинга, перехвата взаимодействий с пользователем или скрытого отображения вредоносного содержимого.\n",
    "\n",
    "\n",
    "com.android.launcher.permission.INSTALL_SHORTCUT\n",
    "Причина: Позволяет устанавливать ярлыки на рабочий стол без ведома пользователя, что может быть использовано для создания вводящих в заблуждение или нежелательных ярлыков.\n",
    "\n",
    "\n",
    "com.android.launcher.permission.UNINSTALL_SHORTCUT\n",
    "Причина: Позволяет удалять ярлыки с рабочего стола\n",
    "\n",
    "\n",
    "android.permission.READ_PHONE_STATE\n",
    "Причина: Предоставляет доступ к состоянию телефона, включая информацию о звонках, идентификатор устройства и состояние сети, что может использоваться для отслеживания пользователя.\n",
    "\n",
    "\n",
    "android.permission.GET_PACKAGE_SIZE\n",
    "Причина: Позволяет получать размер установленных пакетов, что может использоваться для определения установленных приложений и анализа пользовательских предпочтений.\n",
    "\n",
    "\n",
    "android.permission.RESTART_PACKAGES\n",
    "Причина: Позволяет перезапускать другие приложения\n",
    "\n",
    "\n",
    "android.permission.ACCESS_MTK_MMHW\n",
    "Причина: Если связано с аппаратным обеспечением MediaTek, может предоставлять доступ к специфическим функциям устройства, что потенциально может быть использовано для обхода стандартных мер безопасности.\n",
    "\n",
    "android.permission.CHANGE_NETWORK_STATE\n",
    "Причина: Возможность перенастраивать подключение к сети"
   ]
  },
  {
   "cell_type": "markdown",
   "metadata": {},
   "source": [
    "2. Анализ сертификата\n",
    "\n",
    "issuer: CN=sui yun\n",
    "    validity: \n",
    "    notBefore: Nov 16 03:11:34 2015 GMT\n",
    "    notAfter: Mar 19 03:11:34 3015 GMT\n",
    "subject: CN=sui yun\n",
    "\n",
    "Сам себе подписал сертификат, необычно... Но для андроидов это вроде норма\n",
    "Срок действия сертификата до 3015 года доверия не внушает\n",
    "\n",
    "md_algs:\n",
    "    algorithm: sha1 (1.3.14.3.2.26)\n",
    "\n",
    "SHA1, алгоритм времён динозавров, доверия также не внушает"
   ]
  },
  {
   "cell_type": "markdown",
   "metadata": {},
   "source": [
    "3. Анализ операций в сети\n",
    "\n",
    "http.txt:\n",
    "\n",
    "http://www.9wedo.com:89/ads_manage/sendAdNewStatus?user_id=\n",
    "http://www.9wedo.com:89/ads_manage/registUser\n",
    "http://hgupdate.hmapi.com:7017/pthrkup.do\n",
    "http://hgupdate.eoapi.com:7017/uthrkup.do\n",
    "\n",
    "\n",
    "- Нестандартные порты: Использование не дефолтных 80 и 443 для http и https может указывать на попытки обойти ограничения сети или скрыть трафик.\n",
    "- consumeContent() и writeTo(), указывают на чтение и возможную запись полученных данных, что может быть использовано для сборки информации о пользователях или устройстве.\n",
    "\n",
    "get_device_id.txt\n",
    "\n",
    "invoke-virtual {v0}, Landroid/telephony/TelephonyManager;->getDeviceId()Ljava/lang/String; не понятно, для чего вызывать несколько раз фнукцию для получения ID устройства, возможно попытка трекинг и несанкционированного получения информации"
   ]
  },
  {
   "cell_type": "markdown",
   "metadata": {},
   "source": [
    "### Создание некого подобия признаков на вход модели ###"
   ]
  },
  {
   "cell_type": "code",
   "execution_count": 2,
   "metadata": {},
   "outputs": [
    {
     "name": "stdout",
     "output_type": "stream",
     "text": [
      "Defaulting to user installation because normal site-packages is not writeable\n",
      "Collecting pandas\n",
      "  Downloading pandas-2.2.3-cp311-cp311-manylinux_2_17_x86_64.manylinux2014_x86_64.whl (13.1 MB)\n",
      "\u001b[2K     \u001b[90m━━━━━━━━━━━━━━━━━━━━━━━━━━━━━━━━━━━━━━━━\u001b[0m \u001b[32m13.1/13.1 MB\u001b[0m \u001b[31m5.2 MB/s\u001b[0m eta \u001b[36m0:00:00\u001b[0m00:01\u001b[0m00:01\u001b[0m\n",
      "\u001b[?25hCollecting numpy>=1.23.2\n",
      "  Downloading numpy-2.2.1-cp311-cp311-manylinux_2_17_x86_64.manylinux2014_x86_64.whl (16.4 MB)\n",
      "\u001b[2K     \u001b[90m━━━━━━━━━━━━━━━━━━━━━━━━━━━━━━━━━━━━━━━━\u001b[0m \u001b[32m16.4/16.4 MB\u001b[0m \u001b[31m4.9 MB/s\u001b[0m eta \u001b[36m0:00:00\u001b[0m00:01\u001b[0m00:01\u001b[0m\n",
      "\u001b[?25hRequirement already satisfied: python-dateutil>=2.8.2 in /home/alexander/.local/lib/python3.11/site-packages (from pandas) (2.9.0.post0)\n",
      "Requirement already satisfied: pytz>=2020.1 in /home/alexander/.local/lib/python3.11/site-packages (from pandas) (2022.7.1)\n",
      "Collecting tzdata>=2022.7\n",
      "  Using cached tzdata-2024.2-py2.py3-none-any.whl (346 kB)\n",
      "Requirement already satisfied: six>=1.5 in /home/alexander/.local/lib/python3.11/site-packages (from python-dateutil>=2.8.2->pandas) (1.17.0)\n",
      "Installing collected packages: tzdata, numpy, pandas\n",
      "Successfully installed numpy-2.2.1 pandas-2.2.3 tzdata-2024.2\n",
      "\n",
      "\u001b[1m[\u001b[0m\u001b[34;49mnotice\u001b[0m\u001b[1;39;49m]\u001b[0m\u001b[39;49m A new release of pip available: \u001b[0m\u001b[31;49m22.3.1\u001b[0m\u001b[39;49m -> \u001b[0m\u001b[32;49m24.3.1\u001b[0m\n",
      "\u001b[1m[\u001b[0m\u001b[34;49mnotice\u001b[0m\u001b[1;39;49m]\u001b[0m\u001b[39;49m To update, run: \u001b[0m\u001b[32;49mpip3.11 install --upgrade pip\u001b[0m\n",
      "Note: you may need to restart the kernel to use updated packages.\n"
     ]
    }
   ],
   "source": [
    "%pip install pandas\n",
    "\n",
    "import pandas as pd"
   ]
  },
  {
   "cell_type": "code",
   "execution_count": 4,
   "metadata": {},
   "outputs": [],
   "source": [
    "data_final = {\n",
    "    'issuer': ['CN=sui yun'],\n",
    "    'subject': ['CN=sui yun'],\n",
    "    'isSelfSign': [1],\n",
    "    'notBefore': ['Nov 16 03:11:34 2015 GMT'],\n",
    "    'notAfter': ['Mar 19 03:11:34 3015 GMT'],\n",
    "    'validDuration': [1000],\n",
    "    'havePermissionInternet': [1],\n",
    "    'havePermissionReadPhoneState': [1],\n",
    "    'havePermissionSendTextMessage': [0],\n",
    "    'havePermissionLocation': [1],\n",
    "    'havePermissionAccessNetworkState': [1],\n",
    "    'havePermissionGetTasks': [1],\n",
    "    'havePermissionRestartPackages': [1],\n",
    "    'haveActionGetDeviceId': [1],\n",
    "    'haveActionGetSubscriberId': [1],\n",
    "    'isSelfSign': [1],\n",
    "    'validYearDuration': [1000],\n",
    "    'binsz': [1431126],\n",
    "    'bits': [64],\n",
    "    'canary': [0],\n",
    "    'injprot': [0],\n",
    "    'crypto': [0],\n",
    "    'haveSSL': [1],\n",
    "    'lessSecure': [1],\n",
    "    'havecode': [0],\n",
    "    'infected': [1],  # Целевая переменная\n",
    "}\n",
    "\n",
    "df_final = pd.DataFrame(data_final)"
   ]
  },
  {
   "cell_type": "markdown",
   "metadata": {},
   "source": [
    "### Итог ###"
   ]
  },
  {
   "cell_type": "code",
   "execution_count": 5,
   "metadata": {},
   "outputs": [
    {
     "data": {
      "text/plain": [
       "issuer                                            CN=sui yun\n",
       "subject                                           CN=sui yun\n",
       "isSelfSign                                                 1\n",
       "notBefore                           Nov 16 03:11:34 2015 GMT\n",
       "notAfter                            Mar 19 03:11:34 3015 GMT\n",
       "validDuration                                           1000\n",
       "havePermissionInternet                                     1\n",
       "havePermissionReadPhoneState                               1\n",
       "havePermissionSendTextMessage                              0\n",
       "havePermissionLocation                                     1\n",
       "havePermissionAccessNetworkState                           1\n",
       "havePermissionGetTasks                                     1\n",
       "havePermissionRestartPackages                              1\n",
       "haveActionGetDeviceId                                      1\n",
       "haveActionGetSubscriberId                                  1\n",
       "validYearDuration                                       1000\n",
       "binsz                                                1431126\n",
       "bits                                                      64\n",
       "canary                                                     0\n",
       "injprot                                                    0\n",
       "crypto                                                     0\n",
       "haveSSL                                                    1\n",
       "lessSecure                                                 1\n",
       "havecode                                                   0\n",
       "infected                                                   1\n",
       "Name: 0, dtype: object"
      ]
     },
     "execution_count": 5,
     "metadata": {},
     "output_type": "execute_result"
    }
   ],
   "source": [
    "df_final.iloc[0]"
   ]
  },
  {
   "cell_type": "markdown",
   "metadata": {},
   "source": [
    "Была проведена работа по изучению и анализу вредносного ПО на ОС Android\n",
    "\n",
    "- Был сформирован список разрешений, которые вызывают сомнение в их легальности\n",
    "- Был проанализирован сертификат приложения, были выявлены некоторые сомнительные детали, такие как срок действия\n",
    "- Был изучен ассемблер\n",
    "- Была проанализирована сетевая активность при помощи эмулятора ОС Android\n",
    "\n",
    "По итогу был сформирован словарь из ключевых признаков, которые могли бы повлиять на успешную классификацию ПО как вредоносного"
   ]
  }
 ],
 "metadata": {
  "kernelspec": {
   "display_name": "Python 3",
   "language": "python",
   "name": "python3"
  },
  "language_info": {
   "codemirror_mode": {
    "name": "ipython",
    "version": 3
   },
   "file_extension": ".py",
   "mimetype": "text/x-python",
   "name": "python",
   "nbconvert_exporter": "python",
   "pygments_lexer": "ipython3",
   "version": "3.11.1"
  }
 },
 "nbformat": 4,
 "nbformat_minor": 2
}
